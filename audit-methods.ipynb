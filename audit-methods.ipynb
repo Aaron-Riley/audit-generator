import os
import csv
import re

# Get the current working directory
cwd = os.getcwd()

# Create a new CSV file
with open('Audit.csv', 'w', newline='') as csvfile:
    # Write the header row to the CSV file
    writer = csv.writer(csvfile)
    writer.writerow(['Folder', 'File', 'Method', 'Status', 'Date', 'Author', 'Summary of Function', 'Functionality'])

    # Iterate over the PHP files in the libraries directory
    folder = '/ENTER/URL/FILEPATH/HERE'
    if os.path.exists(folder) and os.path.isdir(folder):
        for root, dirs, files in os.walk(folder):
            for file in files:
                if file.endswith('.php'):
                    # Get the folder name
                    folder_name = os.path.basename(root)

                    # Get the file name
                    file_name = file

                    # Get the relative path to the file
                    file_path = os.path.join(folder_name, file_name)

                    # Read the PHP file
                    with open(os.path.join(root, file), 'r') as php_file:
                        code = php_file.read()

                        # Find the method/function names using regular expressions
                        method_names = re.findall(r'(?:function|public\s+function|private\s+function|protected\s+function)\s+(\w+)\s*\(', code)

                    # Write a row to the CSV file with blank fields
                    for method_name in method_names:
                        writer.writerow([folder_name, file_path, method_name, '', '', '', 'Summary placeholder', 'Functionality placeholder'])

print("Audit completed and saved to Audit.csv.")
