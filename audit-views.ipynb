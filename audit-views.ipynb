import os
import csv

# Get the current working directory
cwd = os.getcwd()

# Create a new CSV file
with open('AuditViews.csv', 'w', newline='') as csvfile:
    # Write the header row to the CSV file
    writer = csv.writer(csvfile)
    writer.writerow(['Folder', 'File', 'Status', 'Date', 'Author'])

    # Iterate over the PHP files in the views directory
    views_folder = '/ADD/FILEPATH/HERE'
    if os.path.exists(views_folder) and os.path.isdir(views_folder):
        for root, dirs, files in os.walk(views_folder):
            for file in files:
                if file.endswith('.php'):
                    # Get the folder name
                    folder_name = os.path.basename(root)

                    # Get the file name
                    file_name = file

                    # Get the relative path to the file
                    file_path = os.path.join(folder_name, file_name)

                    # Write a row to the CSV file with blank fields
                    writer.writerow([folder_name, file_path, '', '', '', 'N/A', 'N/A'])

print("Audit completed and saved to AuditViews.csv.")
